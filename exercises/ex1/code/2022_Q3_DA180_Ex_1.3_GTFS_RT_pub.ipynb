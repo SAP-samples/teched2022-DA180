{
 "cells": [
  {
   "cell_type": "markdown",
   "metadata": {},
   "source": [
    "# Exercise 1.3 - Polling for real-time vehicle positions\n",
    "data is pulled from [https://gtfs.adelaidemetro.com.au/v1/realtime/vehicle_positions](https://gtfs.adelaidemetro.com.au/v1/realtime/vehicle_positions)\n"
   ]
  },
  {
   "cell_type": "code",
   "execution_count": 1,
   "metadata": {},
   "outputs": [],
   "source": [
    "# import required libraries\n",
    "from google.transit import gtfs_realtime_pb2\n",
    "import pandas as pd\n",
    "import requests\n",
    "from protobuf_to_dict import protobuf_to_dict\n",
    "import hana_ml\n",
    "from hana_ml.dataframe import ConnectionContext\n",
    "from hana_ml.dataframe import create_dataframe_from_pandas"
   ]
  },
  {
   "cell_type": "code",
   "execution_count": 2,
   "metadata": {},
   "outputs": [
    {
     "name": "stdout",
     "output_type": "stream",
     "text": [
      "HANA version: 4.00.000.00.1663064250 (fa/CE2022.30)\n",
      "hana-ml version: 2.14.22092300\n",
      "pandas version: 1.2.5\n"
     ]
    }
   ],
   "source": [
    "# Connect to SAP HANA Cloud\n",
    "host = '[YourHostName]'\n",
    "port = 443\n",
    "user = '[YourUser]'\n",
    "passwd = '[YourUserPassword]'\n",
    "cc= ConnectionContext(address=host, port=port, user=user, password=passwd, encrypt='true' ,sslValidateCertificate='false')\n",
    "\n",
    "schema=\"TECHED_USER_000\"\n",
    "print('HANA version:', cc.hana_version())\n",
    "print('hana-ml version:', hana_ml.__version__)\n",
    "print('pandas version:', pd.__version__)"
   ]
  },
  {
   "cell_type": "code",
   "execution_count": 3,
   "metadata": {},
   "outputs": [],
   "source": [
    "# function that get vehicle positions and returns data as pandas dataframe\n",
    "def get_locations_as_df() -> pd.DataFrame:\n",
    "    feed = gtfs_realtime_pb2.FeedMessage()\n",
    "    response = requests.get('https://gtfs.adelaidemetro.com.au/v1/realtime/vehicle_positions')\n",
    "    feed.ParseFromString(response.content)\n",
    "    dict = protobuf_to_dict(feed)\n",
    "    df = pd.json_normalize(dict['entity'])\n",
    "    df['vehicle.timestamp'] = pd.to_datetime(df['vehicle.timestamp'], unit='s')\n",
    "    return df"
   ]
  },
  {
   "cell_type": "code",
   "execution_count": 4,
   "metadata": {},
   "outputs": [
    {
     "data": {
      "text/html": [
       "<div>\n",
       "<style scoped>\n",
       "    .dataframe tbody tr th:only-of-type {\n",
       "        vertical-align: middle;\n",
       "    }\n",
       "\n",
       "    .dataframe tbody tr th {\n",
       "        vertical-align: top;\n",
       "    }\n",
       "\n",
       "    .dataframe thead th {\n",
       "        text-align: right;\n",
       "    }\n",
       "</style>\n",
       "<table border=\"1\" class=\"dataframe\">\n",
       "  <thead>\n",
       "    <tr style=\"text-align: right;\">\n",
       "      <th></th>\n",
       "      <th>id</th>\n",
       "      <th>vehicle.trip.trip_id</th>\n",
       "      <th>vehicle.trip.start_date</th>\n",
       "      <th>vehicle.trip.schedule_relationship</th>\n",
       "      <th>vehicle.trip.route_id</th>\n",
       "      <th>vehicle.trip.direction_id</th>\n",
       "      <th>vehicle.position.latitude</th>\n",
       "      <th>vehicle.position.longitude</th>\n",
       "      <th>vehicle.position.bearing</th>\n",
       "      <th>vehicle.position.speed</th>\n",
       "      <th>vehicle.timestamp</th>\n",
       "      <th>vehicle.vehicle.id</th>\n",
       "      <th>vehicle.vehicle.label</th>\n",
       "    </tr>\n",
       "  </thead>\n",
       "  <tbody>\n",
       "    <tr>\n",
       "      <th>0</th>\n",
       "      <td>V550114101</td>\n",
       "      <td>550114</td>\n",
       "      <td>20221014</td>\n",
       "      <td>0</td>\n",
       "      <td>GLNELG</td>\n",
       "      <td>0</td>\n",
       "      <td>-34.927074</td>\n",
       "      <td>138.599747</td>\n",
       "      <td>4.320000</td>\n",
       "      <td>6.8</td>\n",
       "      <td>2022-10-14 12:41:15</td>\n",
       "      <td>101</td>\n",
       "      <td>101</td>\n",
       "    </tr>\n",
       "    <tr>\n",
       "      <th>1</th>\n",
       "      <td>V6522671026</td>\n",
       "      <td>652267</td>\n",
       "      <td>20221014</td>\n",
       "      <td>0</td>\n",
       "      <td>H22</td>\n",
       "      <td>0</td>\n",
       "      <td>-34.924629</td>\n",
       "      <td>138.593750</td>\n",
       "      <td>87.000000</td>\n",
       "      <td>0.0</td>\n",
       "      <td>2022-10-14 12:41:07</td>\n",
       "      <td>1026</td>\n",
       "      <td>1026</td>\n",
       "    </tr>\n",
       "    <tr>\n",
       "      <th>2</th>\n",
       "      <td>V7260941027</td>\n",
       "      <td>726094</td>\n",
       "      <td>20221014</td>\n",
       "      <td>0</td>\n",
       "      <td>281</td>\n",
       "      <td>0</td>\n",
       "      <td>-34.920921</td>\n",
       "      <td>138.611359</td>\n",
       "      <td>261.079987</td>\n",
       "      <td>9.2</td>\n",
       "      <td>2022-10-14 12:41:10</td>\n",
       "      <td>1027</td>\n",
       "      <td>1027</td>\n",
       "    </tr>\n",
       "  </tbody>\n",
       "</table>\n",
       "</div>"
      ],
      "text/plain": [
       "            id vehicle.trip.trip_id vehicle.trip.start_date  \\\n",
       "0   V550114101               550114                20221014   \n",
       "1  V6522671026               652267                20221014   \n",
       "2  V7260941027               726094                20221014   \n",
       "\n",
       "   vehicle.trip.schedule_relationship vehicle.trip.route_id  \\\n",
       "0                                   0                GLNELG   \n",
       "1                                   0                   H22   \n",
       "2                                   0                   281   \n",
       "\n",
       "   vehicle.trip.direction_id  vehicle.position.latitude  \\\n",
       "0                          0                 -34.927074   \n",
       "1                          0                 -34.924629   \n",
       "2                          0                 -34.920921   \n",
       "\n",
       "   vehicle.position.longitude  vehicle.position.bearing  \\\n",
       "0                  138.599747                  4.320000   \n",
       "1                  138.593750                 87.000000   \n",
       "2                  138.611359                261.079987   \n",
       "\n",
       "   vehicle.position.speed   vehicle.timestamp vehicle.vehicle.id  \\\n",
       "0                     6.8 2022-10-14 12:41:15                101   \n",
       "1                     0.0 2022-10-14 12:41:07               1026   \n",
       "2                     9.2 2022-10-14 12:41:10               1027   \n",
       "\n",
       "  vehicle.vehicle.label  \n",
       "0                   101  \n",
       "1                  1026  \n",
       "2                  1027  "
      ]
     },
     "execution_count": 4,
     "metadata": {},
     "output_type": "execute_result"
    }
   ],
   "source": [
    "# inspect the data\n",
    "df = get_locations_as_df()\n",
    "df.head(3)"
   ]
  },
  {
   "cell_type": "code",
   "execution_count": 5,
   "metadata": {},
   "outputs": [],
   "source": [
    "# function that calls get_locations_as_df() and stores the data in HANA tables\n",
    "def store_locations():\n",
    "    df = get_locations_as_df()\n",
    "    hdf_locations_history = create_dataframe_from_pandas(\n",
    "        connection_context=cc,\n",
    "        pandas_df=df, \n",
    "        geo_cols=[(\"vehicle.position.longitude\", \"vehicle.position.latitude\")], srid=4326,\n",
    "        schema=schema,\n",
    "        table_name='LOC_RT_HISTORY', \n",
    "        force=False, append=True\n",
    "    )\n",
    "    hdf_locations = create_dataframe_from_pandas(\n",
    "        connection_context=cc,\n",
    "        pandas_df=df, \n",
    "        geo_cols=[(\"vehicle.position.longitude\", \"vehicle.position.latitude\")], srid=4326,\n",
    "        schema=schema,\n",
    "        table_name='LOC_RT', \n",
    "        primary_key=['id','trip_id','route_id'],\n",
    "        force=True\n",
    "    )\n"
   ]
  },
  {
   "cell_type": "code",
   "execution_count": 8,
   "metadata": {},
   "outputs": [
    {
     "name": "stderr",
     "output_type": "stream",
     "text": [
      "100%|██████████| 1/1 [00:00<00:00, 13.01it/s]\n",
      "100%|██████████| 1/1 [00:00<00:00, 10.77it/s]\n"
     ]
    }
   ],
   "source": [
    "# try\n",
    "store_locations()"
   ]
  },
  {
   "cell_type": "code",
   "execution_count": 6,
   "metadata": {},
   "outputs": [
    {
     "name": "stderr",
     "output_type": "stream",
     "text": [
      "100%|██████████| 1/1 [00:00<00:00, 12.03it/s]\n",
      "100%|██████████| 1/1 [00:00<00:00, 13.41it/s]\n",
      "100%|██████████| 1/1 [00:00<00:00, 19.23it/s]\n",
      "100%|██████████| 1/1 [00:00<00:00, 13.89it/s]\n",
      "100%|██████████| 1/1 [00:00<00:00, 16.67it/s]\n",
      "100%|██████████| 1/1 [00:00<00:00, 15.38it/s]\n",
      "100%|██████████| 1/1 [00:00<00:00, 15.87it/s]\n",
      "100%|██████████| 1/1 [00:00<00:00,  9.89it/s]\n",
      "100%|██████████| 1/1 [00:00<00:00, 12.97it/s]\n",
      "100%|██████████| 1/1 [00:00<00:00, 15.69it/s]\n",
      "100%|██████████| 1/1 [00:00<00:00, 16.13it/s]\n",
      "100%|██████████| 1/1 [00:00<00:00, 14.69it/s]\n",
      "100%|██████████| 1/1 [00:00<00:00, 16.12it/s]\n",
      "100%|██████████| 1/1 [00:00<00:00, 14.10it/s]\n",
      "100%|██████████| 1/1 [00:00<00:00, 18.84it/s]\n",
      "100%|██████████| 1/1 [00:00<00:00, 15.99it/s]\n",
      "100%|██████████| 1/1 [00:00<00:00, 16.73it/s]\n",
      "100%|██████████| 1/1 [00:00<00:00, 11.29it/s]\n",
      "100%|██████████| 1/1 [00:00<00:00, 18.51it/s]\n",
      "100%|██████████| 1/1 [00:00<00:00, 11.91it/s]\n",
      "100%|██████████| 1/1 [00:00<00:00,  7.75it/s]\n",
      "100%|██████████| 1/1 [00:00<00:00, 10.61it/s]\n",
      "100%|██████████| 1/1 [00:00<00:00, 18.47it/s]\n",
      "100%|██████████| 1/1 [00:00<00:00, 14.49it/s]\n",
      "100%|██████████| 1/1 [00:00<00:00, 18.18it/s]\n",
      "100%|██████████| 1/1 [00:00<00:00, 15.16it/s]\n"
     ]
    },
    {
     "ename": "KeyboardInterrupt",
     "evalue": "",
     "output_type": "error",
     "traceback": [
      "\u001b[1;31m---------------------------------------------------------------------------\u001b[0m",
      "\u001b[1;31mKeyboardInterrupt\u001b[0m                         Traceback (most recent call last)",
      "\u001b[1;32m<ipython-input-6-5c8c2c9a5ab8>\u001b[0m in \u001b[0;36m<module>\u001b[1;34m\u001b[0m\n\u001b[0;32m      2\u001b[0m \u001b[1;32mwhile\u001b[0m \u001b[1;32mTrue\u001b[0m\u001b[1;33m:\u001b[0m\u001b[1;33m\u001b[0m\u001b[1;33m\u001b[0m\u001b[0m\n\u001b[0;32m      3\u001b[0m   \u001b[0mstore_locations\u001b[0m\u001b[1;33m(\u001b[0m\u001b[1;33m)\u001b[0m\u001b[1;33m\u001b[0m\u001b[1;33m\u001b[0m\u001b[0m\n\u001b[1;32m----> 4\u001b[1;33m   \u001b[0mtime\u001b[0m\u001b[1;33m.\u001b[0m\u001b[0msleep\u001b[0m\u001b[1;33m(\u001b[0m\u001b[1;36m15\u001b[0m\u001b[1;33m)\u001b[0m\u001b[1;33m\u001b[0m\u001b[1;33m\u001b[0m\u001b[0m\n\u001b[0m",
      "\u001b[1;31mKeyboardInterrupt\u001b[0m: "
     ]
    }
   ],
   "source": [
    "# periodically import vehicle position data\n",
    "import time\n",
    "while True:\n",
    "  store_locations()\n",
    "  time.sleep(15)\n"
   ]
  }
 ],
 "metadata": {
  "kernelspec": {
   "display_name": "Python 3.8.10 ('tbd')",
   "language": "python",
   "name": "python3"
  },
  "language_info": {
   "codemirror_mode": {
    "name": "ipython",
    "version": 3
   },
   "file_extension": ".py",
   "mimetype": "text/x-python",
   "name": "python",
   "nbconvert_exporter": "python",
   "pygments_lexer": "ipython3",
   "version": "3.8.10"
  },
  "orig_nbformat": 4,
  "vscode": {
   "interpreter": {
    "hash": "622306dc7c28df2438293a5a5f5fac374f5d1ae3196da6cc31d07b04254d567a"
   }
  }
 },
 "nbformat": 4,
 "nbformat_minor": 2
}
